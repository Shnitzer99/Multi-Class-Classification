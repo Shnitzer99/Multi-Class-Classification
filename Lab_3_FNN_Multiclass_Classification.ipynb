{
 "cells": [
  {
   "cell_type": "code",
   "execution_count": 1,
   "id": "75adf5c8",
   "metadata": {},
   "outputs": [],
   "source": [
    "import numpy as np\n",
    "import pandas as pd"
   ]
  },
  {
   "cell_type": "code",
   "execution_count": 2,
   "id": "a4b450e8",
   "metadata": {},
   "outputs": [],
   "source": [
    "df=pd.read_csv('Milk.csv')"
   ]
  },
  {
   "cell_type": "code",
   "execution_count": 3,
   "id": "dcf979e8",
   "metadata": {},
   "outputs": [
    {
     "name": "stdout",
     "output_type": "stream",
     "text": [
      "       pH  Temprature  Taste  Odor  Fat   Turbidity  Colour   Grade\n",
      "0     6.6          35      1     0     1          0     254    high\n",
      "1     6.6          36      0     1     0          1     253    high\n",
      "2     8.5          70      1     1     1          1     246     low\n",
      "3     9.5          34      1     1     0          1     255     low\n",
      "4     6.6          37      0     0     0          0     255  medium\n",
      "...   ...         ...    ...   ...   ...        ...     ...     ...\n",
      "1054  6.7          45      1     1     0          0     247  medium\n",
      "1055  6.7          38      1     0     1          0     255    high\n",
      "1056  3.0          40      1     1     1          1     255     low\n",
      "1057  6.8          43      1     0     1          0     250    high\n",
      "1058  8.6          55      0     1     1          1     255     low\n",
      "\n",
      "[1059 rows x 8 columns]\n"
     ]
    }
   ],
   "source": [
    "print(df)"
   ]
  },
  {
   "cell_type": "code",
   "execution_count": 4,
   "id": "4a3f8842",
   "metadata": {},
   "outputs": [],
   "source": [
    "df=df.dropna()"
   ]
  },
  {
   "cell_type": "code",
   "execution_count": 5,
   "id": "f4f7a687",
   "metadata": {
    "scrolled": true
   },
   "outputs": [
    {
     "name": "stdout",
     "output_type": "stream",
     "text": [
      "       pH  Temprature  Taste  Odor  Fat   Turbidity  Colour   Grade\n",
      "0     6.6          35      1     0     1          0     254    high\n",
      "1     6.6          36      0     1     0          1     253    high\n",
      "2     8.5          70      1     1     1          1     246     low\n",
      "3     9.5          34      1     1     0          1     255     low\n",
      "4     6.6          37      0     0     0          0     255  medium\n",
      "...   ...         ...    ...   ...   ...        ...     ...     ...\n",
      "1054  6.7          45      1     1     0          0     247  medium\n",
      "1055  6.7          38      1     0     1          0     255    high\n",
      "1056  3.0          40      1     1     1          1     255     low\n",
      "1057  6.8          43      1     0     1          0     250    high\n",
      "1058  8.6          55      0     1     1          1     255     low\n",
      "\n",
      "[1059 rows x 8 columns]\n"
     ]
    }
   ],
   "source": [
    "print(df)"
   ]
  },
  {
   "cell_type": "code",
   "execution_count": 6,
   "id": "4b2d6b97",
   "metadata": {},
   "outputs": [],
   "source": [
    "x=df.drop(\"Grade\",axis=1)"
   ]
  },
  {
   "cell_type": "code",
   "execution_count": 7,
   "id": "2af152ba",
   "metadata": {},
   "outputs": [],
   "source": [
    "df.loc[df[\"Grade\"] == \"high\", \"Grade\"] = 0\n",
    "df.loc[df[\"Grade\"] == \"medium\", \"Grade\"] = 1\n",
    "df.loc[df[\"Grade\"] == \"low\", \"Grade\"] = 2"
   ]
  },
  {
   "cell_type": "code",
   "execution_count": 8,
   "id": "2dc66934",
   "metadata": {},
   "outputs": [],
   "source": [
    "y=df[\"Grade\"]"
   ]
  },
  {
   "cell_type": "code",
   "execution_count": 9,
   "id": "412dfb9f",
   "metadata": {},
   "outputs": [],
   "source": [
    "import keras"
   ]
  },
  {
   "cell_type": "code",
   "execution_count": 10,
   "id": "555a604c",
   "metadata": {},
   "outputs": [],
   "source": [
    "y_cat= keras.utils.to_categorical(y)"
   ]
  },
  {
   "cell_type": "code",
   "execution_count": 11,
   "id": "a7ed5fcb",
   "metadata": {},
   "outputs": [],
   "source": [
    "from sklearn.preprocessing import StandardScaler"
   ]
  },
  {
   "cell_type": "code",
   "execution_count": 12,
   "id": "c6b04e3d",
   "metadata": {},
   "outputs": [],
   "source": [
    "sc=StandardScaler()"
   ]
  },
  {
   "cell_type": "code",
   "execution_count": 13,
   "id": "3bb8db55",
   "metadata": {},
   "outputs": [],
   "source": [
    "x = pd.DataFrame(sc.fit_transform(x))"
   ]
  },
  {
   "cell_type": "code",
   "execution_count": 14,
   "id": "315675f7",
   "metadata": {},
   "outputs": [],
   "source": [
    "from sklearn.model_selection import train_test_split"
   ]
  },
  {
   "cell_type": "code",
   "execution_count": 15,
   "id": "4ebcd87a",
   "metadata": {},
   "outputs": [],
   "source": [
    "x_train, x_test, y_train, y_test = train_test_split(x.values,y_cat,test_size=0.2)"
   ]
  },
  {
   "cell_type": "code",
   "execution_count": 16,
   "id": "6cd143d3",
   "metadata": {},
   "outputs": [],
   "source": [
    "from keras.models import Sequential\n",
    "from keras.layers import Dense"
   ]
  },
  {
   "cell_type": "code",
   "execution_count": 17,
   "id": "d6f885af",
   "metadata": {},
   "outputs": [],
   "source": [
    "model = Sequential()\n",
    "model.add(Dense(8, input_dim = 7, activation = 'relu'))\n",
    "model.add(Dense(9, activation = 'relu'))\n",
    "model.add(Dense(9, activation = 'relu'))\n",
    "model.add(Dense(9, activation = 'relu'))\n",
    "model.add(Dense(3, activation = 'softmax'))\n",
    "model.compile(loss = 'categorical_crossentropy', optimizer = 'adam', metrics = ['accuracy'])"
   ]
  },
  {
   "cell_type": "code",
   "execution_count": 18,
   "id": "066105fb",
   "metadata": {},
   "outputs": [
    {
     "name": "stdout",
     "output_type": "stream",
     "text": [
      "Epoch 1/50\n",
      "27/27 [==============================] - 0s 731us/step - loss: 1.1381 - accuracy: 0.3872\n",
      "Epoch 2/50\n",
      "27/27 [==============================] - 0s 769us/step - loss: 1.0723 - accuracy: 0.4404\n",
      "Epoch 3/50\n",
      "27/27 [==============================] - 0s 731us/step - loss: 1.0284 - accuracy: 0.4522\n",
      "Epoch 4/50\n",
      "27/27 [==============================] - 0s 808us/step - loss: 0.9833 - accuracy: 0.4345\n",
      "Epoch 5/50\n",
      "27/27 [==============================] - 0s 808us/step - loss: 0.9203 - accuracy: 0.4545\n",
      "Epoch 6/50\n",
      "27/27 [==============================] - 0s 846us/step - loss: 0.8489 - accuracy: 0.6092\n",
      "Epoch 7/50\n",
      "27/27 [==============================] - 0s 769us/step - loss: 0.7717 - accuracy: 0.6836\n",
      "Epoch 8/50\n",
      "27/27 [==============================] - 0s 1ms/step - loss: 0.6936 - accuracy: 0.7355\n",
      "Epoch 9/50\n",
      "27/27 [==============================] - 0s 1ms/step - loss: 0.6109 - accuracy: 0.8323\n",
      "Epoch 10/50\n",
      "27/27 [==============================] - 0s 1ms/step - loss: 0.5193 - accuracy: 0.8583\n",
      "Epoch 11/50\n",
      "27/27 [==============================] - 0s 1ms/step - loss: 0.4371 - accuracy: 0.8949\n",
      "Epoch 12/50\n",
      "27/27 [==============================] - 0s 1ms/step - loss: 0.3640 - accuracy: 0.9185\n",
      "Epoch 13/50\n",
      "27/27 [==============================] - 0s 923us/step - loss: 0.3050 - accuracy: 0.9362\n",
      "Epoch 14/50\n",
      "27/27 [==============================] - 0s 923us/step - loss: 0.2592 - accuracy: 0.9492\n",
      "Epoch 15/50\n",
      "27/27 [==============================] - 0s 1ms/step - loss: 0.2241 - accuracy: 0.9481\n",
      "Epoch 16/50\n",
      "27/27 [==============================] - 0s 1ms/step - loss: 0.1976 - accuracy: 0.9469\n",
      "Epoch 17/50\n",
      "27/27 [==============================] - 0s 923us/step - loss: 0.1730 - accuracy: 0.9599\n",
      "Epoch 18/50\n",
      "27/27 [==============================] - 0s 885us/step - loss: 0.1562 - accuracy: 0.9528\n",
      "Epoch 19/50\n",
      "27/27 [==============================] - 0s 962us/step - loss: 0.1438 - accuracy: 0.9610\n",
      "Epoch 20/50\n",
      "27/27 [==============================] - 0s 846us/step - loss: 0.1309 - accuracy: 0.9528\n",
      "Epoch 21/50\n",
      "27/27 [==============================] - 0s 885us/step - loss: 0.1221 - accuracy: 0.9752\n",
      "Epoch 22/50\n",
      "27/27 [==============================] - 0s 962us/step - loss: 0.1137 - accuracy: 0.9835\n",
      "Epoch 23/50\n",
      "27/27 [==============================] - 0s 923us/step - loss: 0.1077 - accuracy: 0.9823\n",
      "Epoch 24/50\n",
      "27/27 [==============================] - 0s 923us/step - loss: 0.1034 - accuracy: 0.9776\n",
      "Epoch 25/50\n",
      "27/27 [==============================] - 0s 1ms/step - loss: 0.0974 - accuracy: 0.9811\n",
      "Epoch 26/50\n",
      "27/27 [==============================] - 0s 1ms/step - loss: 0.0933 - accuracy: 0.9752\n",
      "Epoch 27/50\n",
      "27/27 [==============================] - 0s 1ms/step - loss: 0.0883 - accuracy: 0.9882\n",
      "Epoch 28/50\n",
      "27/27 [==============================] - 0s 1ms/step - loss: 0.0862 - accuracy: 0.9764\n",
      "Epoch 29/50\n",
      "27/27 [==============================] - 0s 1ms/step - loss: 0.0810 - accuracy: 0.9847\n",
      "Epoch 30/50\n",
      "27/27 [==============================] - 0s 1ms/step - loss: 0.0778 - accuracy: 0.9941\n",
      "Epoch 31/50\n",
      "27/27 [==============================] - 0s 1ms/step - loss: 0.0739 - accuracy: 0.9941\n",
      "Epoch 32/50\n",
      "27/27 [==============================] - 0s 1ms/step - loss: 0.0745 - accuracy: 0.9823\n",
      "Epoch 33/50\n",
      "27/27 [==============================] - 0s 1ms/step - loss: 0.0688 - accuracy: 0.9941\n",
      "Epoch 34/50\n",
      "27/27 [==============================] - 0s 962us/step - loss: 0.0662 - accuracy: 0.9941\n",
      "Epoch 35/50\n",
      "27/27 [==============================] - 0s 1ms/step - loss: 0.0633 - accuracy: 0.9941\n",
      "Epoch 36/50\n",
      "27/27 [==============================] - 0s 1ms/step - loss: 0.0620 - accuracy: 0.9929\n",
      "Epoch 37/50\n",
      "27/27 [==============================] - 0s 1ms/step - loss: 0.0592 - accuracy: 0.9917\n",
      "Epoch 38/50\n",
      "27/27 [==============================] - 0s 1ms/step - loss: 0.0568 - accuracy: 0.9941\n",
      "Epoch 39/50\n",
      "27/27 [==============================] - 0s 1ms/step - loss: 0.0556 - accuracy: 0.9941\n",
      "Epoch 40/50\n",
      "27/27 [==============================] - 0s 885us/step - loss: 0.0545 - accuracy: 0.9917\n",
      "Epoch 41/50\n",
      "27/27 [==============================] - 0s 962us/step - loss: 0.0520 - accuracy: 0.9941\n",
      "Epoch 42/50\n",
      "27/27 [==============================] - 0s 962us/step - loss: 0.0493 - accuracy: 0.9941\n",
      "Epoch 43/50\n",
      "27/27 [==============================] - 0s 808us/step - loss: 0.0476 - accuracy: 0.9941\n",
      "Epoch 44/50\n",
      "27/27 [==============================] - 0s 923us/step - loss: 0.0465 - accuracy: 0.9941\n",
      "Epoch 45/50\n",
      "27/27 [==============================] - 0s 731us/step - loss: 0.0462 - accuracy: 0.9941\n",
      "Epoch 46/50\n",
      "27/27 [==============================] - 0s 885us/step - loss: 0.0441 - accuracy: 0.9917\n",
      "Epoch 47/50\n",
      "27/27 [==============================] - 0s 846us/step - loss: 0.0420 - accuracy: 0.9941\n",
      "Epoch 48/50\n",
      "27/27 [==============================] - 0s 885us/step - loss: 0.0413 - accuracy: 0.9941\n",
      "Epoch 49/50\n",
      "27/27 [==============================] - 0s 923us/step - loss: 0.0405 - accuracy: 0.9941\n",
      "Epoch 50/50\n",
      "27/27 [==============================] - 0s 769us/step - loss: 0.0381 - accuracy: 0.9976\n"
     ]
    },
    {
     "data": {
      "text/plain": [
       "<keras.callbacks.History at 0x2662bf61eb0>"
      ]
     },
     "execution_count": 18,
     "metadata": {},
     "output_type": "execute_result"
    }
   ],
   "source": [
    "model.fit(x_train, y_train, verbose=1, epochs=50)"
   ]
  },
  {
   "cell_type": "code",
   "execution_count": 19,
   "id": "477eee33",
   "metadata": {},
   "outputs": [
    {
     "name": "stdout",
     "output_type": "stream",
     "text": [
      "27/27 [==============================] - 0s 577us/step - loss: 0.0368 - accuracy: 0.9976\n"
     ]
    }
   ],
   "source": [
    "loss, accuracy = model.evaluate(x_train, y_train)"
   ]
  },
  {
   "cell_type": "code",
   "execution_count": 20,
   "id": "f512da08",
   "metadata": {},
   "outputs": [
    {
     "name": "stdout",
     "output_type": "stream",
     "text": [
      "Accuracy: 99.76% Loss: 3.68%\n"
     ]
    }
   ],
   "source": [
    "print(\"Accuracy: %.2f%% Loss: %.2f%%\" % (accuracy*100, loss*100))"
   ]
  },
  {
   "cell_type": "code",
   "execution_count": null,
   "id": "581d045b",
   "metadata": {},
   "outputs": [],
   "source": []
  }
 ],
 "metadata": {
  "kernelspec": {
   "display_name": "Python 3 (ipykernel)",
   "language": "python",
   "name": "python3"
  },
  "language_info": {
   "codemirror_mode": {
    "name": "ipython",
    "version": 3
   },
   "file_extension": ".py",
   "mimetype": "text/x-python",
   "name": "python",
   "nbconvert_exporter": "python",
   "pygments_lexer": "ipython3",
   "version": "3.9.12"
  }
 },
 "nbformat": 4,
 "nbformat_minor": 5
}
